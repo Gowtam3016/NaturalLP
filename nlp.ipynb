{
 "cells": [
  {
   "cell_type": "code",
   "execution_count": 1,
   "id": "aa7e09c9-abb8-494c-a4dd-a303beeb8477",
   "metadata": {},
   "outputs": [
    {
     "name": "stderr",
     "output_type": "stream",
     "text": [
      "[nltk_data] Downloading package punkt to\n",
      "[nltk_data]     C:\\Users\\Student\\AppData\\Roaming\\nltk_data...\n",
      "[nltk_data]   Package punkt is already up-to-date!\n"
     ]
    },
    {
     "name": "stdin",
     "output_type": "stream",
     "text": [
      "Enter a sentence:  tokenization is the best\n"
     ]
    },
    {
     "name": "stdout",
     "output_type": "stream",
     "text": [
      "Tokenized Words: ['tokenization', 'is', 'the', 'best']\n",
      "Number of Words: 4\n"
     ]
    }
   ],
   "source": [
    "import nltk \n",
    "from nltk.tokenize import word_tokenize \n",
    "nltk.download('punkt') \n",
    "sentence = input(\"Enter a sentence: \") \n",
    "words = word_tokenize(sentence) \n",
    "word_count = len(words) \n",
    "print(\"Tokenized Words:\", words) \n",
    "print(\"Number of Words:\", word_count) "
   ]
  },
  {
   "cell_type": "code",
   "execution_count": 2,
   "id": "b9e1f143-9a15-49df-8d26-6065ff5a5874",
   "metadata": {},
   "outputs": [
    {
     "name": "stderr",
     "output_type": "stream",
     "text": [
      "[nltk_data] Downloading package punkt to\n",
      "[nltk_data]     C:\\Users\\Student\\AppData\\Roaming\\nltk_data...\n",
      "[nltk_data]   Package punkt is already up-to-date!\n",
      "[nltk_data] Downloading package stopwords to\n",
      "[nltk_data]     C:\\Users\\Student\\AppData\\Roaming\\nltk_data...\n",
      "[nltk_data]   Package stopwords is already up-to-date!\n"
     ]
    },
    {
     "name": "stdin",
     "output_type": "stream",
     "text": [
      "Enter a passage:  tokenization is the best \n"
     ]
    },
    {
     "name": "stdout",
     "output_type": "stream",
     "text": [
      "Filtered Passage: tokenization best\n"
     ]
    }
   ],
   "source": [
    "import nltk \n",
    "from nltk.corpus import stopwords \n",
    "from nltk.tokenize import word_tokenize \n",
    "nltk.download('punkt') \n",
    "nltk.download('stopwords') \n",
    "passage = input(\"Enter a passage: \") \n",
    "words = word_tokenize(passage) \n",
    "stop_words = set(stopwords.words(\"english\")) \n",
    "filtered_words = [word for word in words if word.lower() not \n",
    "in stop_words] \n",
    "print(\"Filtered Passage:\", \" \".join(filtered_words)) "
   ]
  },
  {
   "cell_type": "code",
   "execution_count": 10,
   "id": "eb8e6617-957b-4fd9-9d5c-188ec256b07b",
   "metadata": {},
   "outputs": [
    {
     "name": "stdout",
     "output_type": "stream",
     "text": [
      "Original Text:\n",
      "The children are playing in the ground.\n",
      "\n",
      "Porter Stemming Results:\n",
      "['the', 'children', 'are', 'play', 'in', 'the', 'ground', '.']\n",
      "\n",
      "2-grams:\n",
      "[('The', 'children'), ('children', 'are'), ('are', 'playing'), ('playing', 'in'), ('in', 'the'), ('the', 'ground'), ('ground', '.')]\n"
     ]
    },
    {
     "name": "stderr",
     "output_type": "stream",
     "text": [
      "[nltk_data] Downloading package punkt to\n",
      "[nltk_data]     C:\\Users\\Student\\AppData\\Roaming\\nltk_data...\n",
      "[nltk_data]   Package punkt is already up-to-date!\n"
     ]
    }
   ],
   "source": [
    "import nltk\n",
    "from nltk.stem import PorterStemmer\n",
    "from nltk.util import ngrams\n",
    "from nltk.tokenize import word_tokenize\n",
    "\n",
    "nltk.download('punkt')\n",
    "\n",
    "def porter_stemming(text):\n",
    "    porter = PorterStemmer()\n",
    "    tokens = word_tokenize(text)\n",
    "    stems = [porter.stem(token) for token in tokens]\n",
    "    return stems\n",
    "\n",
    "def generate_ngrams(tokens, n):\n",
    "    return list(ngrams(tokens, n))\n",
    "\n",
    "def main():\n",
    "    text = \"The children are playing in the ground.\"\n",
    "    print(\"Original Text:\")\n",
    "    print(text)\n",
    "    \n",
    "    stems = porter_stemming(text)\n",
    "    print(\"\\nPorter Stemming Results:\")\n",
    "    print(stems)\n",
    "    \n",
    "    n = 2\n",
    "    tokens = word_tokenize(text)\n",
    "    ngram_results = generate_ngrams(tokens, n)\n",
    "    print(f\"\\n{n}-grams:\")\n",
    "    print(ngram_results)\n",
    "\n",
    "if __name__ == \"__main__\":\n",
    "    main()\n"
   ]
  },
  {
   "cell_type": "code",
   "execution_count": 11,
   "id": "66e40d63-373e-44ca-914f-f52c06b88079",
   "metadata": {},
   "outputs": [
    {
     "name": "stdout",
     "output_type": "stream",
     "text": [
      "Lemmatization Results:\n",
      "['The', 'child', 'are', 'play', 'game', '.', 'They', 'run', 'happy', '.']\n"
     ]
    }
   ],
   "source": [
    "import nltk \n",
    "from nltk.tokenize import word_tokenize \n",
    "lemmatization_dict = { \n",
    "    'running': 'run', \n",
    "    'ran': 'run', \n",
    "    'children': 'child', \n",
    "    'games': 'game', \n",
    "    'playing': 'play', \n",
    "    'loves': 'love', \n",
    "    'happily': 'happy' \n",
    "} \n",
    "def lemmatize(text): \n",
    "    tokens = word_tokenize(text) \n",
    "    return [lemmatization_dict.get(token, token) for token in \n",
    "tokens] \n",
    "text = \"The children are playing games. They ran happily.\" \n",
    "lemmas = lemmatize(text) \n",
    "print(\"Lemmatization Results:\") \n",
    "print(lemmas) "
   ]
  },
  {
   "cell_type": "code",
   "execution_count": 13,
   "id": "b2ed9f66-790e-4106-9a52-a02c7ea5a943",
   "metadata": {},
   "outputs": [
    {
     "name": "stdout",
     "output_type": "stream",
     "text": [
      "Lemmatized Text: the dog are run\n"
     ]
    },
    {
     "name": "stderr",
     "output_type": "stream",
     "text": [
      "[nltk_data] Downloading package punkt to\n",
      "[nltk_data]     C:\\Users\\Student\\AppData\\Roaming\\nltk_data...\n",
      "[nltk_data]   Package punkt is already up-to-date!\n"
     ]
    }
   ],
   "source": [
    "import nltk\n",
    "import re\n",
    "from nltk.tokenize import word_tokenize\n",
    "\n",
    "lemmatization_rules = {\n",
    "    'dogs': 'dog',\n",
    "    'cats': 'cat',\n",
    "    'running': 'run',\n",
    "    'ran': 'run',\n",
    "}\n",
    "\n",
    "def lemmatize_word(word):\n",
    "    return lemmatization_rules.get(word, word)\n",
    "\n",
    "def lemmatize_text(text):\n",
    "    text = re.sub(r'[^\\w\\s]', '', text.lower())  # Remove punctuation and lowercase text\n",
    "    tokens = word_tokenize(text)  # Tokenize the text\n",
    "    return ' '.join(lemmatize_word(word) for word in tokens)\n",
    "\n",
    "nltk.download('punkt')\n",
    "\n",
    "input_text = \"The dogs are running.\"\n",
    "lemmatized_text = lemmatize_text(input_text)\n",
    "print(\"Lemmatized Text:\", lemmatized_text)\n"
   ]
  },
  {
   "cell_type": "code",
   "execution_count": 14,
   "id": "ea9bc1bc-293b-4141-9651-0eb824aca145",
   "metadata": {},
   "outputs": [
    {
     "name": "stdout",
     "output_type": "stream",
     "text": [
      "Replaced Sentence: The fast brown wolf jumps over the sleepy dog .\n"
     ]
    },
    {
     "name": "stderr",
     "output_type": "stream",
     "text": [
      "[nltk_data] Downloading package punkt to\n",
      "[nltk_data]     C:\\Users\\Student\\AppData\\Roaming\\nltk_data...\n",
      "[nltk_data]   Package punkt is already up-to-date!\n"
     ]
    }
   ],
   "source": [
    "import nltk \n",
    "from nltk.tokenize import word_tokenize \n",
    "nltk.download('punkt') \n",
    "def replace_words(sentence, replacements): \n",
    "    words = word_tokenize(sentence) \n",
    "    return ' '.join(replacements.get(word, word) for word in words) \n",
    "input_sentence = \"The quick brown fox jumps over the lazy dog.\" \n",
    "replacements = {'quick': 'fast', 'fox': 'wolf', 'lazy': 'sleepy'} \n",
    "print(\"Replaced Sentence:\", replace_words(input_sentence, replacements))"
   ]
  },
  {
   "cell_type": "code",
   "execution_count": 15,
   "id": "db92e980-ad5b-4f16-ad2a-6fa87e6834c7",
   "metadata": {},
   "outputs": [
    {
     "name": "stderr",
     "output_type": "stream",
     "text": [
      "[nltk_data] Downloading package wordnet to\n",
      "[nltk_data]     C:\\Users\\Student\\AppData\\Roaming\\nltk_data...\n",
      "[nltk_data]   Package wordnet is already up-to-date!\n"
     ]
    },
    {
     "name": "stdin",
     "output_type": "stream",
     "text": [
      "Enter a word:  happy\n"
     ]
    },
    {
     "name": "stdout",
     "output_type": "stream",
     "text": [
      "Synonyms: ['well-chosen', 'happy', 'felicitous', 'glad']\n",
      "Antonyms: ['unhappy']\n"
     ]
    }
   ],
   "source": [
    "import nltk \n",
    "from nltk.corpus import wordnet \n",
    "nltk.download('wordnet') \n",
    "def get_synonyms_antonyms(word): \n",
    "    synonyms, antonyms = set(), set() \n",
    "    for synset in wordnet.synsets(word): \n",
    "        synonyms.update(lemma.name() for lemma in synset.lemmas()) \n",
    "        antonyms.update(antonym.name() for lemma in synset.lemmas() if lemma.antonyms() for antonym in lemma.antonyms()) \n",
    "    return {'synonyms': list(synonyms), 'antonyms': \n",
    "list(antonyms)} \n",
    "if __name__ == \"__main__\": \n",
    "    word = input(\"Enter a word: \") \n",
    "    results = get_synonyms_antonyms(word) \n",
    "    print(f\"Synonyms: {results['synonyms']}\") \n",
    "    print(f\"Antonyms: {results['antonyms']}\") "
   ]
  },
  {
   "cell_type": "code",
   "execution_count": 16,
   "id": "f7104cda-ed6c-4f2b-b716-043c94ececb9",
   "metadata": {},
   "outputs": [
    {
     "name": "stderr",
     "output_type": "stream",
     "text": [
      "[nltk_data] Downloading package words to\n",
      "[nltk_data]     C:\\Users\\Student\\AppData\\Roaming\\nltk_data...\n",
      "[nltk_data]   Package words is already up-to-date!\n"
     ]
    },
    {
     "name": "stdin",
     "output_type": "stream",
     "text": [
      "Enter the prefix:  pre\n"
     ]
    },
    {
     "name": "stdout",
     "output_type": "stream",
     "text": [
      "Words starting with 'pre': ['preabdomen', 'preabsorb', 'preabsorbent', 'preabstract', 'preabundance', 'preabundant', 'preabundantly', 'preaccept', 'preacceptance', 'preaccess', 'preaccessible', 'preaccidental', 'preaccidentally', 'preaccommodate', 'preaccommodating', 'preaccommodatingly', 'preaccommodation', 'preaccomplish', 'preaccomplishment', 'preaccord', 'preaccordance', 'preaccount', 'preaccounting', 'preaccredit', 'preaccumulate', 'preaccumulation', 'preaccusation', 'preaccuse', 'preaccustom', 'preaccustomed', 'preacetabular', 'preach', 'preachable', 'preacher', 'preacherdom', 'preacheress', 'preacherize', 'preacherless', 'preacherling', 'preachership', 'preachieved', 'preachification', 'preachify', 'preachily', 'preachiness', 'preaching', 'preachingly', 'preachman', 'preachment', 'preachy', 'preacid', 'preacidity', 'preacidly', 'preacidness', 'preacknowledge', 'preacknowledgment', 'preacquaint', 'preacquaintance', 'preacquire', 'preacquired', 'preacquit', 'preacquittal', 'preact', 'preaction', 'preactive', 'preactively', 'preactivity', 'preacute', 'preacutely', 'preacuteness', 'preadamic', 'preadamite', 'preadamitic', 'preadamitical', 'preadamitism', 'preadapt', 'preadaptable', 'preadaptation', 'preaddition', 'preadditional', 'preaddress', 'preadequacy', 'preadequate', 'preadequately', 'preadhere', 'preadherence', 'preadherent', 'preadjectival', 'preadjective', 'preadjourn', 'preadjournment', 'preadjunct', 'preadjust', 'preadjustable', 'preadjustment', 'preadministration', 'preadministrative', 'preadministrator', 'preadmire', 'preadmirer', 'preadmission', 'preadmit', 'preadmonish', 'preadmonition', 'preadolescent', 'preadopt', 'preadoption', 'preadoration', 'preadore', 'preadorn', 'preadornment', 'preadult', 'preadulthood', 'preadvance', 'preadvancement', 'preadventure', 'preadvertency', 'preadvertent', 'preadvertise', 'preadvertisement', 'preadvice', 'preadvisable', 'preadvise', 'preadviser', 'preadvisory', 'preadvocacy', 'preadvocate', 'preaestival', 'preaffect', 'preaffection', 'preaffidavit', 'preaffiliate', 'preaffiliation', 'preaffirm', 'preaffirmation', 'preaffirmative', 'preafflict', 'preaffliction', 'preafternoon', 'preaged', 'preaggravate', 'preaggravation', 'preaggression', 'preaggressive', 'preagitate', 'preagitation', 'preagonal', 'preagony', 'preagree', 'preagreement', 'preagricultural', 'preagriculture', 'prealarm', 'prealcohol', 'prealcoholic', 'prealgebra', 'prealgebraic', 'prealkalic', 'preallable', 'preallably', 'preallegation', 'preallege', 'prealliance', 'preallied', 'preallot', 'preallotment', 'preallow', 'preallowable', 'preallowably', 'preallowance', 'preallude', 'preallusion', 'preally', 'prealphabet', 'prealphabetical', 'prealtar', 'prealteration', 'prealveolar', 'preamalgamation', 'preambassadorial', 'preambition', 'preambitious', 'preamble', 'preambled', 'preambling', 'preambular', 'preambulary', 'preambulate', 'preambulation', 'preambulatory', 'preanal', 'preanaphoral', 'preanesthetic', 'preanimism', 'preannex', 'preannounce', 'preannouncement', 'preannouncer', 'preantepenult', 'preantepenultimate', 'preanterior', 'preanticipate', 'preantiquity', 'preantiseptic', 'preaortic', 'preappearance', 'preapperception', 'preapplication', 'preappoint', 'preappointment', 'preapprehension', 'preapprise', 'preapprobation', 'preapproval', 'preapprove', 'preaptitude', 'prearm', 'prearrange', 'prearrangement', 'prearrest', 'prearrestment', 'prearticulate', 'preartistic', 'preascertain', 'preascertainment', 'preascitic', 'preaseptic', 'preassigned', 'preassume', 'preassurance', 'preassure', 'preataxic', 'preattachment', 'preattune', 'preaudience', 'preauditory', 'preaver', 'preavowal', 'preaxiad', 'preaxial', 'preaxially', 'prebachelor', 'prebacillary', 'prebake', 'prebalance', 'preballot', 'preballoting', 'prebankruptcy', 'prebaptismal', 'prebaptize', 'prebarbaric', 'prebarbarous', 'prebargain', 'prebasal', 'prebasilar', 'prebeleve', 'prebelief', 'prebeliever', 'prebelieving', 'prebellum', 'prebeloved', 'prebend', 'prebendal', 'prebendary', 'prebendaryship', 'prebendate', 'prebenediction', 'prebeneficiary', 'prebenefit', 'prebeset', 'prebestow', 'prebestowal', 'prebetray', 'prebetrayal', 'prebetrothal', 'prebid', 'prebidding', 'prebill', 'prebless', 'preblessing', 'preblockade', 'preblooming', 'preboast', 'preboding', 'preboil', 'preborn', 'preborrowing', 'preboyhood', 'prebrachial', 'prebrachium', 'prebreathe', 'prebridal', 'prebroadcasting', 'prebromidic', 'prebronchial', 'prebronze', 'prebrute', 'prebuccal', 'prebudget', 'prebudgetary', 'prebullying', 'preburlesque', 'preburn', 'precalculable', 'precalculate', 'precalculation', 'precampaign', 'precancel', 'precancellation', 'precancerous', 'precandidacy', 'precandidature', 'precanning', 'precanonical', 'precant', 'precantation', 'precanvass', 'precapillary', 'precapitalist', 'precapitalistic', 'precaptivity', 'precapture', 'precarcinomatous', 'precardiac', 'precaria', 'precarious', 'precariously', 'precariousness', 'precarium', 'precarnival', 'precartilage', 'precartilaginous', 'precary', 'precast', 'precation', 'precative', 'precatively', 'precatory', 'precaudal', 'precausation', 'precaution', 'precautional', 'precautionary', 'precautious', 'precautiously', 'precautiousness', 'precava', 'precaval', 'precedable', 'precede', 'precedence', 'precedency', 'precedent', 'precedentable', 'precedentary', 'precedented', 'precedential', 'precedentless', 'precedently', 'preceder', 'preceding', 'precelebrant', 'precelebrate', 'precelebration', 'precensure', 'precensus', 'precent', 'precentor', 'precentorial', 'precentorship', 'precentory', 'precentral', 'precentress', 'precentrix', 'precentrum', 'precept', 'preception', 'preceptist', 'preceptive', 'preceptively', 'preceptor', 'preceptoral', 'preceptorate', 'preceptorial', 'preceptorially', 'preceptorship', 'preceptory', 'preceptress', 'preceptual', 'preceptually', 'preceramic', 'precerebellar', 'precerebral', 'precerebroid', 'preceremonial', 'preceremony', 'precertification', 'precertify', 'preces', 'precess', 'precession', 'precessional', 'prechallenge', 'prechampioned', 'prechampionship', 'precharge', 'prechart', 'precheck', 'prechemical', 'precherish', 'prechildhood', 'prechill', 'prechloric', 'prechloroform', 'prechoice', 'prechoose', 'prechordal', 'prechoroid', 'preciation', 'precinct', 'precinction', 'precinctive', 'preciosity', 'precious', 'preciously', 'preciousness', 'precipe', 'precipice', 'precipiced', 'precipitability', 'precipitable', 'precipitance', 'precipitancy', 'precipitant', 'precipitantly', 'precipitantness', 'precipitate', 'precipitated', 'precipitatedly', 'precipitately', 'precipitation', 'precipitative', 'precipitator', 'precipitin', 'precipitinogen', 'precipitinogenic', 'precipitous', 'precipitously', 'precipitousness', 'precirculate', 'precirculation', 'precis', 'precise', 'precisely', 'preciseness', 'precisian', 'precisianism', 'precisianist', 'precision', 'precisional', 'precisioner', 'precisionism', 'precisionist', 'precisionize', 'precisive', 'precitation', 'precite', 'precited', 'precivilization', 'preclaim', 'preclaimant', 'preclaimer', 'preclassic', 'preclassical', 'preclassification', 'preclassified', 'preclassify', 'preclean', 'precleaner', 'precleaning', 'preclerical', 'preclimax', 'preclinical', 'preclival', 'precloacal', 'preclose', 'preclosure', 'preclothe', 'precludable', 'preclude', 'preclusion', 'preclusive', 'preclusively', 'precoagulation', 'precoccygeal', 'precocial', 'precocious', 'precociously', 'precociousness', 'precocity', 'precogitate', 'precogitation', 'precognition', 'precognitive', 'precognizable', 'precognizant', 'precognize', 'precognosce', 'precoil', 'precoiler', 'precoincidence', 'precoincident', 'precoincidently', 'precollapsable', 'precollapse', 'precollect', 'precollectable', 'precollection', 'precollector', 'precollege', 'precollegiate', 'precollude', 'precollusion', 'precollusive', 'precolor', 'precolorable', 'precoloration', 'precoloring', 'precombat', 'precombatant', 'precombination', 'precombine', 'precombustion', 'precommand', 'precommend', 'precomment', 'precommercial', 'precommissural', 'precommissure', 'precommit', 'precommune', 'precommunicate', 'precommunication', 'precommunion', 'precompare', 'precomparison', 'precompass', 'precompel', 'precompensate', 'precompensation', 'precompilation', 'precompile', 'precompiler', 'precompleteness', 'precompletion', 'precompliance', 'precompliant', 'precomplicate', 'precomplication', 'precompose', 'precomposition', 'precompound', 'precompounding', 'precompoundly', 'precomprehend', 'precomprehension', 'precomprehensive', 'precompress', 'precompulsion', 'precomradeship', 'preconceal', 'preconcealment', 'preconcede', 'preconceivable', 'preconceive', 'preconceived', 'preconcentrate', 'preconcentrated', 'preconcentratedly', 'preconcentration', 'preconcept', 'preconception', 'preconceptional', 'preconceptual', 'preconcern', 'preconcernment', 'preconcert', 'preconcerted', 'preconcertedly', 'preconcertedness', 'preconcertion', 'preconcertive', 'preconcession', 'preconcessive', 'preconclude', 'preconclusion', 'preconcur', 'preconcurrence', 'preconcurrent', 'preconcurrently', 'precondemn', 'precondemnation', 'precondensation', 'precondense', 'precondition', 'preconditioned', 'preconduct', 'preconduction', 'preconductor', 'precondylar', 'precondyloid', 'preconfer', 'preconference', 'preconfess', 'preconfession', 'preconfide', 'preconfiguration', 'preconfigure', 'preconfine', 'preconfinedly', 'preconfinemnt', 'preconfirm', 'preconfirmation', 'preconflict', 'preconform', 'preconformity', 'preconfound', 'preconfuse', 'preconfusedly', 'preconfusion', 'precongenial', 'precongested', 'precongestion', 'precongestive', 'precongratulate', 'precongratulation', 'precongressional', 'preconizance', 'preconization', 'preconize', 'preconizer', 'preconjecture', 'preconnection', 'preconnective', 'preconnubial', 'preconquer', 'preconquest', 'preconquestal', 'preconquestual', 'preconscious', 'preconsciously', 'preconsciousness', 'preconsecrate', 'preconsecration', 'preconsent', 'preconsider', 'preconsideration', 'preconsign', 'preconsolation', 'preconsole', 'preconsolidate', 'preconsolidated', 'preconsolidation', 'preconsonantal', 'preconspiracy', 'preconspirator', 'preconspire', 'preconstituent', 'preconstitute', 'preconstruct', 'preconstruction', 'preconsult', 'preconsultation', 'preconsultor', 'preconsume', 'preconsumer', 'preconsumption', 'precontact', 'precontain', 'precontained', 'precontemn', 'precontemplate', 'precontemplation', 'precontemporaneous', 'precontemporary', 'precontend', 'precontent', 'precontention', 'precontently', 'precontentment', 'precontest', 'precontinental', 'precontract', 'precontractive', 'precontractual', 'precontribute', 'precontribution', 'precontributive', 'precontrivance', 'precontrive', 'precontrol', 'precontrolled', 'precontroversial', 'precontroversy', 'preconvention', 'preconversation', 'preconversational', 'preconversion', 'preconvert', 'preconvey', 'preconveyal', 'preconveyance', 'preconvict', 'preconviction', 'preconvince', 'precook', 'precooker', 'precool', 'precooler', 'precooling', 'precopy', 'precoracoid', 'precordia', 'precordial', 'precordiality', 'precordially', 'precordium', 'precorneal', 'precornu', 'precoronation', 'precorrect', 'precorrection', 'precorrectly', 'precorrectness', 'precorrespond', 'precorrespondence', 'precorrespondent', 'precorridor', 'precorrupt', 'precorruption', 'precorruptive', 'precorruptly', 'precoruptness', 'precosmic', 'precosmical', 'precostal', 'precounsel', 'precounsellor', 'precourse', 'precover', 'precovering', 'precox', 'precreate', 'precreation', 'precreative', 'precredit', 'precreditor', 'precreed', 'precritical', 'precriticism', 'precriticize', 'precrucial', 'precrural', 'precrystalline', 'precultivate', 'precultivation', 'precultural', 'preculturally', 'preculture', 'precuneal', 'precuneate', 'precuneus', 'precure', 'precurrent', 'precurricular', 'precurriculum', 'precursal', 'precurse', 'precursive', 'precursor', 'precursory', 'precurtain', 'precut', 'precyclone', 'precyclonic', 'precynical', 'precyst', 'precystic', 'predable', 'predacean', 'predaceous', 'predaceousness', 'predacity', 'predamage', 'predamn', 'predamnation', 'predark', 'predarkness', 'predata', 'predate', 'predation', 'predatism', 'predative', 'predator', 'predatorily', 'predatoriness', 'predatory', 'predawn', 'preday', 'predaylight', 'predaytime', 'predazzite', 'predealer', 'predealing', 'predeath', 'predeathly', 'predebate', 'predebater', 'predebit', 'predebtor', 'predecay', 'predecease', 'predeceaser', 'predeceive', 'predeceiver', 'predeception', 'predecession', 'predecessor', 'predecessorship', 'predecide', 'predecision', 'predecisive', 'predeclaration', 'predeclare', 'predeclination', 'predecline', 'predecree', 'prededicate', 'prededuct', 'prededuction', 'predefault', 'predefeat', 'predefect', 'predefective', 'predefence', 'predefend', 'predefense', 'predefiance', 'predeficiency', 'predeficient', 'predefine', 'predefinite', 'predefinition', 'predefray', 'predefrayal', 'predefy', 'predegeneracy', 'predegenerate', 'predegree', 'predeication', 'predelay', 'predelegate', 'predelegation', 'predeliberate', 'predeliberately', 'predeliberation', 'predelineate', 'predelineation', 'predelinquency', 'predelinquent', 'predelinquently', 'predeliver', 'predelivery', 'predella', 'predelude', 'predelusion', 'predemand', 'predemocracy', 'predemocratic', 'predemonstrate', 'predemonstration', 'predemonstrative', 'predenial', 'predental', 'predentary', 'predentate', 'predeny', 'predepart', 'predepartmental', 'predeparture', 'predependable', 'predependence', 'predependent', 'predeplete', 'predepletion', 'predeposit', 'predepository', 'predepreciate', 'predepreciation', 'predepression', 'predeprivation', 'predeprive', 'prederivation', 'prederive', 'predescend', 'predescent', 'predescribe', 'predescription', 'predesert', 'predeserter', 'predesertion', 'predeserve', 'predeserving', 'predesign', 'predesignate', 'predesignation', 'predesignatory', 'predesirous', 'predesolate', 'predesolation', 'predespair', 'predesperate', 'predespicable', 'predespise', 'predespond', 'predespondency', 'predespondent', 'predestinable', 'predestinarian', 'predestinarianism', 'predestinate', 'predestinately', 'predestination', 'predestinational', 'predestinationism', 'predestinationist', 'predestinative', 'predestinator', 'predestine', 'predestiny', 'predestitute', 'predestitution', 'predestroy', 'predestruction', 'predetach', 'predetachment', 'predetail', 'predetain', 'predetainer', 'predetect', 'predetention', 'predeterminability', 'predeterminable', 'predeterminant', 'predeterminate', 'predeterminately', 'predetermination', 'predeterminative', 'predetermine', 'predeterminer', 'predeterminism', 'predeterministic', 'predetest', 'predetestation', 'predetrimental', 'predevelop', 'predevelopment', 'predevise', 'predevote', 'predevotion', 'predevour', 'prediagnosis', 'prediagnostic', 'predial', 'prediastolic', 'prediatory', 'predicability', 'predicable', 'predicableness', 'predicably', 'predicament', 'predicamental', 'predicamentally', 'predicant', 'predicate', 'predication', 'predicational', 'predicative', 'predicatively', 'predicator', 'predicatory', 'predicrotic', 'predict', 'predictability', 'predictable', 'predictably', 'predictate', 'predictation', 'prediction', 'predictional', 'predictive', 'predictively', 'predictiveness', 'predictor', 'predictory', 'prediet', 'predietary', 'predifferent', 'predifficulty', 'predigest', 'predigestion', 'predikant', 'predilect', 'predilected', 'predilection', 'prediligent', 'prediligently', 'prediluvial', 'prediluvian', 'prediminish', 'prediminishment', 'prediminution', 'predine', 'predinner', 'prediphtheritic', 'prediploma', 'prediplomacy', 'prediplomatic', 'predirect', 'predirection', 'predirector', 'predisability', 'predisable', 'predisadvantage', 'predisadvantageous', 'predisadvantageously', 'predisagree', 'predisagreeable', 'predisagreement', 'predisappointment', 'predisaster', 'predisastrous', 'prediscern', 'prediscernment', 'predischarge', 'prediscipline', 'predisclose', 'predisclosure', 'prediscontent', 'prediscontented', 'prediscontentment', 'prediscontinuance', 'prediscontinuation', 'prediscontinue', 'prediscount', 'prediscountable', 'prediscourage', 'prediscouragement', 'prediscourse', 'prediscover', 'prediscoverer', 'prediscovery', 'prediscreet', 'prediscretion', 'prediscretionary', 'prediscriminate', 'prediscrimination', 'prediscriminator', 'prediscuss', 'prediscussion', 'predisgrace', 'predisguise', 'predisgust', 'predislike', 'predismiss', 'predismissal', 'predismissory', 'predisorder', 'predisordered', 'predisorderly', 'predispatch', 'predispatcher', 'predisperse', 'predispersion', 'predisplace', 'predisplacement', 'predisplay', 'predisponency', 'predisponent', 'predisposable', 'predisposal', 'predispose', 'predisposed', 'predisposedly', 'predisposedness', 'predisposition', 'predispositional', 'predisputant', 'predisputation', 'predispute', 'predisregard', 'predisrupt', 'predisruption', 'predissatisfaction', 'predissolution', 'predissolve', 'predissuade', 'predistinct', 'predistinction', 'predistinguish', 'predistress', 'predistribute', 'predistribution', 'predistributor', 'predistrict', 'predistrust', 'predistrustful', 'predisturb', 'predisturbance', 'prediversion', 'predivert', 'predivide', 'predividend', 'predivider', 'predivinable', 'predivinity', 'predivision', 'predivorce', 'predivorcement', 'predoctorate', 'predocumentary', 'predomestic', 'predominance', 'predominancy', 'predominant', 'predominantly', 'predominate', 'predominately', 'predominatingly', 'predomination', 'predominator', 'predonate', 'predonation', 'predonor', 'predoom', 'predorsal', 'predoubt', 'predoubter', 'predoubtful', 'predraft', 'predrainage', 'predramatic', 'predraw', 'predrawer', 'predread', 'predreadnought', 'predrill', 'predriller', 'predrive', 'predriver', 'predry', 'preduplicate', 'preduplication', 'predusk', 'predwell', 'predynamite', 'predynastic', 'preen', 'preener', 'preeze', 'prefab', 'prefabricate', 'prefabrication', 'prefabricator', 'preface', 'prefaceable', 'prefacer', 'prefacial', 'prefacist', 'prefactor', 'prefactory', 'prefamiliar', 'prefamiliarity', 'prefamiliarly', 'prefamous', 'prefashion', 'prefatial', 'prefator', 'prefatorial', 'prefatorially', 'prefatorily', 'prefatory', 'prefavor', 'prefavorable', 'prefavorably', 'prefavorite', 'prefearful', 'prefearfully', 'prefeast', 'prefect', 'prefectly', 'prefectoral', 'prefectorial', 'prefectorially', 'prefectorian', 'prefectship', 'prefectual', 'prefectural', 'prefecture', 'prefecundation', 'prefecundatory', 'prefederal', 'prefelic', 'prefer', 'preferability', 'preferable', 'preferableness', 'preferably', 'preferee', 'preference', 'preferent', 'preferential', 'preferentialism', 'preferentialist', 'preferentially', 'preferment', 'prefermentation', 'preferred', 'preferredly', 'preferredness', 'preferrer', 'preferrous', 'prefertile', 'prefertility', 'prefertilization', 'prefertilize', 'prefervid', 'prefestival', 'prefeudal', 'prefeudalic', 'prefeudalism', 'prefiction', 'prefictional', 'prefigurate', 'prefiguration', 'prefigurative', 'prefiguratively', 'prefigurativeness', 'prefigure', 'prefigurement', 'prefiller', 'prefilter', 'prefinal', 'prefinance', 'prefinancial', 'prefine', 'prefinish', 'prefix', 'prefixable', 'prefixal', 'prefixally', 'prefixation', 'prefixed', 'prefixedly', 'prefixion', 'prefixture', 'preflagellate', 'preflatter', 'preflattery', 'preflavor', 'preflavoring', 'preflection', 'preflexion', 'preflight', 'preflood', 'prefloration', 'preflowering', 'prefoliation', 'prefool', 'preforbidden', 'preforceps', 'preforgive', 'preforgiveness', 'preforgotten', 'preform', 'preformant', 'preformation', 'preformationary', 'preformationism', 'preformationist', 'preformative', 'preformed', 'preformism', 'preformist', 'preformistic', 'preformulate', 'preformulation', 'prefortunate', 'prefortunately', 'prefortune', 'prefoundation', 'prefounder', 'prefragrance', 'prefragrant', 'prefrankness', 'prefraternal', 'prefraternally', 'prefraud', 'prefreeze', 'prefreshman', 'prefriendly', 'prefriendship', 'prefright', 'prefrighten', 'prefrontal', 'prefulfill', 'prefulfillment', 'prefulgence', 'prefulgency', 'prefulgent', 'prefunction', 'prefunctional', 'prefuneral', 'prefungoidal', 'prefurlough', 'prefurnish', 'pregain', 'pregainer', 'pregalvanize', 'preganglionic', 'pregather', 'pregathering', 'pregeminum', 'pregenerate', 'pregeneration', 'pregenerosity', 'pregenerous', 'pregenerously', 'pregenial', 'pregeniculatum', 'pregeniculum', 'pregenital', 'pregeological', 'pregirlhood', 'preglacial', 'pregladden', 'pregladness', 'preglenoid', 'preglenoidal', 'preglobulin', 'pregnability', 'pregnable', 'pregnance', 'pregnancy', 'pregnant', 'pregnantly', 'pregnantness', 'pregolden', 'pregolfing', 'pregracile', 'pregracious', 'pregrade', 'pregraduation', 'pregranite', 'pregranitic', 'pregratification', 'pregratify', 'pregreet', 'pregreeting', 'pregrievance', 'pregrowth', 'preguarantee', 'preguarantor', 'preguard', 'preguess', 'preguidance', 'preguide', 'preguilt', 'preguiltiness', 'preguilty', 'pregust', 'pregustant', 'pregustation', 'pregustator', 'pregustic', 'prehallux', 'prehalter', 'prehandicap', 'prehandle', 'prehaps', 'preharden', 'preharmonious', 'preharmoniousness', 'preharmony', 'preharsh', 'preharshness', 'preharvest', 'prehatred', 'prehaunt', 'prehaunted', 'prehaustorium', 'prehazard', 'prehazardous', 'preheal', 'prehearing', 'preheat', 'preheated', 'preheater', 'prehemiplegic', 'prehend', 'prehensible', 'prehensile', 'prehensility', 'prehension', 'prehensive', 'prehensiveness', 'prehensor', 'prehensorial', 'prehensory', 'prehepatic', 'prehepaticus', 'preheroic', 'prehesitancy', 'prehesitate', 'prehesitation', 'prehexameral', 'prehistorian', 'prehistoric', 'prehistorical', 'prehistorically', 'prehistorics', 'prehistory', 'prehnite', 'prehnitic', 'preholder', 'preholding', 'preholiday', 'prehorizon', 'prehorror', 'prehostile', 'prehostility', 'prehuman', 'prehumiliate', 'prehumiliation', 'prehumor', 'prehunger', 'prehydration', 'prehypophysis', 'preidea', 'preidentification', 'preidentify', 'preignition', 'preilluminate', 'preillumination', 'preillustrate', 'preillustration', 'preimage', 'preimaginary', 'preimagination', 'preimagine', 'preimbibe', 'preimbue', 'preimitate', 'preimitation', 'preimitative', 'preimmigration', 'preimpair', 'preimpairment', 'preimpart', 'preimperial', 'preimport', 'preimportance', 'preimportant', 'preimportantly', 'preimportation', 'preimposal', 'preimpose', 'preimposition', 'preimpress', 'preimpression', 'preimpressive', 'preimprove', 'preimprovement', 'preinaugural', 'preinaugurate', 'preincarnate', 'preincentive', 'preinclination', 'preincline', 'preinclude', 'preinclusion', 'preincorporate', 'preincorporation', 'preincrease', 'preindebted', 'preindebtedness', 'preindemnification', 'preindemnify', 'preindemnity', 'preindependence', 'preindependent', 'preindependently', 'preindesignate', 'preindicant', 'preindicate', 'preindication', 'preindispose', 'preindisposition', 'preinduce', 'preinducement', 'preinduction', 'preinductive', 'preindulge', 'preindulgence', 'preindulgent', 'preindustrial', 'preindustry', 'preinfect', 'preinfection', 'preinfer', 'preinference', 'preinflection', 'preinflectional', 'preinflict', 'preinfluence', 'preinform', 'preinformation', 'preinhabit', 'preinhabitant', 'preinhabitation', 'preinhere', 'preinherit', 'preinheritance', 'preinitial', 'preinitiate', 'preinitiation', 'preinjure', 'preinjurious', 'preinjury', 'preinquisition', 'preinscribe', 'preinscription', 'preinsert', 'preinsertion', 'preinsinuate', 'preinsinuating', 'preinsinuatingly', 'preinsinuation', 'preinsinuative', 'preinspect', 'preinspection', 'preinspector', 'preinspire', 'preinstall', 'preinstallation', 'preinstill', 'preinstillation', 'preinstruct', 'preinstruction', 'preinstructional', 'preinstructive', 'preinsula', 'preinsular', 'preinsulate', 'preinsulation', 'preinsult', 'preinsurance', 'preinsure', 'preintellectual', 'preintelligence', 'preintelligent', 'preintelligently', 'preintend', 'preintention', 'preintercede', 'preintercession', 'preinterchange', 'preintercourse', 'preinterest', 'preinterfere', 'preinterference', 'preinterpret', 'preinterpretation', 'preinterpretative', 'preinterview', 'preintone', 'preinvent', 'preinvention', 'preinventive', 'preinventory', 'preinvest', 'preinvestigate', 'preinvestigation', 'preinvestigator', 'preinvestment', 'preinvitation', 'preinvite', 'preinvocation', 'preinvolve', 'preinvolvement', 'preiotization', 'preiotize', 'preirrigation', 'preirrigational', 'preissuance', 'preissue', 'prejacent', 'prejournalistic', 'prejudge', 'prejudgement', 'prejudger', 'prejudgment', 'prejudication', 'prejudicative', 'prejudicator', 'prejudice', 'prejudiced', 'prejudicedly', 'prejudiceless', 'prejudiciable', 'prejudicial', 'prejudicially', 'prejudicialness', 'prejudicious', 'prejudiciously', 'prejunior', 'prejurisdiction', 'prejustification', 'prejustify', 'prejuvenile', 'prekindergarten', 'prekindle', 'preknit', 'preknow', 'preknowledge', 'prelabel', 'prelabial', 'prelabor', 'prelabrum', 'prelachrymal', 'prelacrimal', 'prelacteal', 'prelacy', 'prelanguage', 'prelapsarian', 'prelate', 'prelatehood', 'prelateship', 'prelatess', 'prelatial', 'prelatic', 'prelatical', 'prelatically', 'prelaticalness', 'prelation', 'prelatish', 'prelatism', 'prelatist', 'prelatize', 'prelatry', 'prelature', 'prelaunch', 'prelaunching', 'prelawful', 'prelawfully', 'prelawfulness', 'prelease', 'prelect', 'prelection', 'prelector', 'prelectorship', 'prelectress', 'prelecture', 'prelegacy', 'prelegal', 'prelegate', 'prelegatee', 'prelegend', 'prelegendary', 'prelegislative', 'preliability', 'preliable', 'prelibation', 'preliberal', 'preliberality', 'preliberally', 'preliberate', 'preliberation', 'prelicense', 'prelim', 'preliminarily', 'preliminary', 'prelimit', 'prelimitate', 'prelimitation', 'prelingual', 'prelinguistic', 'prelinpinpin', 'preliquidate', 'preliquidation', 'preliteral', 'preliterally', 'preliteralness', 'preliterary', 'preliterate', 'preliterature', 'prelithic', 'prelitigation', 'preloan', 'prelocalization', 'prelocate', 'prelogic', 'prelogical', 'preloral', 'preloreal', 'preloss', 'prelude', 'preluder', 'preludial', 'preludious', 'preludiously', 'preludium', 'preludize', 'prelumbar', 'prelusion', 'prelusive', 'prelusively', 'prelusorily', 'prelusory', 'preluxurious', 'premachine', 'premadness', 'premaintain', 'premaintenance', 'premake', 'premaker', 'premaking', 'premandibular', 'premanhood', 'premaniacal', 'premanifest', 'premanifestation', 'premankind', 'premanufacture', 'premanufacturer', 'premanufacturing', 'premarital', 'premarriage', 'premarry', 'premastery', 'prematch', 'premate', 'prematerial', 'prematernity', 'prematrimonial', 'prematuration', 'premature', 'prematurely', 'prematureness', 'prematurity', 'premaxilla', 'premaxillary', 'premeasure', 'premeasurement', 'premechanical', 'premedia', 'premedial', 'premedian', 'premedic', 'premedical', 'premedicate', 'premedication', 'premedieval', 'premedievalism', 'premeditate', 'premeditatedly', 'premeditatedness', 'premeditatingly', 'premeditation', 'premeditative', 'premeditator', 'premegalithic', 'prememorandum', 'premenace', 'premenstrual', 'premention', 'premeridian', 'premerit', 'premetallic', 'premethodical', 'premial', 'premiant', 'premiate', 'premidnight', 'premidsummer', 'premier', 'premieral', 'premiere', 'premieress', 'premierjus', 'premiership', 'premilitary', 'premillenarian', 'premillenarianism', 'premillennial', 'premillennialism', 'premillennialist', 'premillennialize', 'premillennially', 'premillennian', 'preminister', 'preministry', 'premious', 'premisal', 'premise', 'premisory', 'premisrepresent', 'premisrepresentation', 'premiss', 'premium', 'premix', 'premixer', 'premixture', 'premodel', 'premodern', 'premodification', 'premodify', 'premolar', 'premold', 'premolder', 'premolding', 'premonarchial', 'premonetary', 'premonish', 'premonishment', 'premonition', 'premonitive', 'premonitor', 'premonitorily', 'premonitory', 'premonopolize', 'premonopoly', 'premonumental', 'premoral', 'premorality', 'premorally', 'premorbid', 'premorbidly', 'premorbidness', 'premorning', 'premorse', 'premortal', 'premortification', 'premortify', 'premortuary', 'premosaic', 'premotion', 'premourn', 'premove', 'premovement', 'premover', 'premuddle', 'premultiplication', 'premultiplier', 'premultiply', 'premundane', 'premunicipal', 'premunition', 'premunitory', 'premusical', 'premuster', 'premutative', 'premutiny', 'premycotic', 'premyelocyte', 'premythical', 'prename', 'prenares', 'prenarial', 'prenaris', 'prenasal', 'prenatal', 'prenatalist', 'prenatally', 'prenational', 'prenative', 'prenatural', 'prenaval', 'prender', 'prendre', 'prenebular', 'prenecessitate', 'preneglect', 'preneglectful', 'prenegligence', 'prenegligent', 'prenegotiate', 'prenegotiation', 'preneolithic', 'prenephritic', 'preneural', 'preneuralgic', 'prenight', 'prenoble', 'prenodal', 'prenominal', 'prenominate', 'prenomination', 'prenominical', 'prenotation', 'prenotice', 'prenotification', 'prenotify', 'prenotion', 'prentice', 'prenticeship', 'prenumber', 'prenumbering', 'prenuncial', 'prenuptial', 'prenursery', 'preobedience', 'preobedient', 'preobject', 'preobjection', 'preobjective', 'preobligate', 'preobligation', 'preoblige', 'preobservance', 'preobservation', 'preobservational', 'preobserve', 'preobstruct', 'preobstruction', 'preobtain', 'preobtainable', 'preobtrude', 'preobtrusion', 'preobtrusive', 'preobviate', 'preobvious', 'preobviously', 'preobviousness', 'preoccasioned', 'preoccipital', 'preocclusion', 'preoccultation', 'preoccupancy', 'preoccupant', 'preoccupate', 'preoccupation', 'preoccupative', 'preoccupied', 'preoccupiedly', 'preoccupiedness', 'preoccupier', 'preoccupy', 'preoccur', 'preoccurrence', 'preoceanic', 'preocular', 'preodorous', 'preoffend', 'preoffense', 'preoffensive', 'preoffensively', 'preoffensiveness', 'preoffer', 'preoffering', 'preofficial', 'preofficially', 'preominate', 'preomission', 'preomit', 'preopen', 'preopening', 'preoperate', 'preoperation', 'preoperative', 'preoperatively', 'preoperator', 'preopercle', 'preopercular', 'preoperculum', 'preopinion', 'preopinionated', 'preoppose', 'preopposition', 'preoppress', 'preoppression', 'preoppressor', 'preoptic', 'preoptimistic', 'preoption', 'preoral', 'preorally', 'preorbital', 'preordain', 'preorder', 'preordination', 'preorganic', 'preorganization', 'preorganize', 'preoriginal', 'preoriginally', 'preornamental', 'preoutfit', 'preoutline', 'preoverthrow', 'prep', 'prepainful', 'prepalatal', 'prepalatine', 'prepaleolithic', 'prepanic', 'preparable', 'preparation', 'preparationist', 'preparative', 'preparatively', 'preparator', 'preparatorily', 'preparatory', 'prepardon', 'prepare', 'prepared', 'preparedly', 'preparedness', 'preparement', 'preparental', 'preparer', 'preparietal', 'preparingly', 'preparliamentary', 'preparoccipital', 'preparoxysmal', 'prepartake', 'preparticipation', 'prepartisan', 'prepartition', 'prepartnership', 'prepatellar', 'prepatent', 'prepatriotic', 'prepave', 'prepavement', 'prepay', 'prepayable', 'prepayment', 'prepeduncle', 'prepenetrate', 'prepenetration', 'prepenial', 'prepense', 'prepensely', 'prepeople', 'preperceive', 'preperception', 'preperceptive', 'preperitoneal', 'prepersuade', 'prepersuasion', 'prepersuasive', 'preperusal', 'preperuse', 'prepetition', 'prephragma', 'prephthisical', 'prepigmental', 'prepink', 'prepious', 'prepituitary', 'preplace', 'preplacement', 'preplacental', 'preplan', 'preplant', 'prepledge', 'preplot', 'prepoetic', 'prepoetical', 'prepoison', 'prepolice', 'prepolish', 'prepolitic', 'prepolitical', 'prepolitically', 'prepollence', 'prepollency', 'prepollent', 'prepollex', 'preponder', 'preponderance', 'preponderancy', 'preponderant', 'preponderantly', 'preponderate', 'preponderately', 'preponderating', 'preponderatingly', 'preponderation', 'preponderous', 'preponderously', 'prepontile', 'prepontine', 'preportray', 'preportrayal', 'prepose', 'preposition', 'prepositional', 'prepositionally', 'prepositive', 'prepositively', 'prepositor', 'prepositorial', 'prepositure', 'prepossess', 'prepossessed', 'prepossessing', 'prepossessingly', 'prepossessingness', 'prepossession', 'prepossessionary', 'prepossessor', 'preposterous', 'preposterously', 'preposterousness', 'prepostorship', 'prepotence', 'prepotency', 'prepotent', 'prepotential', 'prepotently', 'prepractical', 'prepractice', 'preprandial', 'prepreference', 'prepreparation', 'preprice', 'preprimary', 'preprimer', 'preprimitive', 'preprint', 'preprofess', 'preprofessional', 'preprohibition', 'prepromise', 'prepromote', 'prepromotion', 'prepronounce', 'prepronouncement', 'preprophetic', 'preprostatic', 'preprove', 'preprovide', 'preprovision', 'preprovocation', 'preprovoke', 'preprudent', 'preprudently', 'prepsychological', 'prepsychology', 'prepuberal', 'prepubertal', 'prepuberty', 'prepubescent', 'prepubic', 'prepubis', 'prepublication', 'prepublish', 'prepuce', 'prepunctual', 'prepunish', 'prepunishment', 'prepupa', 'prepupal', 'prepurchase', 'prepurchaser', 'prepurpose', 'preputial', 'preputium', 'prepyloric', 'prepyramidal', 'prequalification', 'prequalify', 'prequarantine', 'prequestion', 'prequotation', 'prequote', 'preracing', 'preradio', 'prerailroad', 'prerailroadite', 'prerailway', 'preramus', 'prerational', 'prereadiness', 'preready', 'prerealization', 'prerealize', 'prerebellion', 'prereceipt', 'prereceive', 'prereceiver', 'prerecital', 'prerecite', 'prereckon', 'prereckoning', 'prerecognition', 'prerecognize', 'prerecommend', 'prerecommendation', 'prereconcile', 'prereconcilement', 'prereconciliation', 'prerectal', 'preredeem', 'preredemption', 'prereduction', 'prerefer', 'prereference', 'prerefine', 'prerefinement', 'prereform', 'prereformation', 'prereformatory', 'prerefusal', 'prerefuse', 'preregal', 'preregister', 'preregistration', 'preregulate', 'preregulation', 'prereject', 'prerejection', 'prerejoice', 'prerelate', 'prerelation', 'prerelationship', 'prerelease', 'prereligious', 'prereluctation', 'preremit', 'preremittance', 'preremorse', 'preremote', 'preremoval', 'preremove', 'preremunerate', 'preremuneration', 'prerenal', 'prerent', 'prerental', 'prereport', 'prerepresent', 'prerepresentation', 'prereption', 'prerepublican', 'prerequest', 'prerequire', 'prerequirement', 'prerequisite', 'prerequisition', 'preresemblance', 'preresemble', 'preresolve', 'preresort', 'prerespectability', 'prerespectable', 'prerespiration', 'prerespire', 'preresponsibility', 'preresponsible', 'prerestoration', 'prerestrain', 'prerestraint', 'prerestrict', 'prerestriction', 'prereturn', 'prereveal', 'prerevelation', 'prerevenge', 'prereversal', 'prereverse', 'prereview', 'prerevise', 'prerevision', 'prerevival', 'prerevolutionary', 'prerheumatic', 'prerich', 'prerighteous', 'prerighteously', 'prerighteousness', 'prerogatival', 'prerogative', 'prerogatived', 'prerogatively', 'prerogativity', 'prerolandic', 'preromantic', 'preromanticism', 'preroute', 'preroutine', 'preroyal', 'preroyally', 'preroyalty', 'prerupt', 'preruption', 'presacral', 'presacrifice', 'presacrificial', 'presage', 'presageful', 'presagefully', 'presager', 'presagient', 'presaging', 'presagingly', 'presalvation', 'presanctification', 'presanctified', 'presanctify', 'presanguine', 'presanitary', 'presartorial', 'presatisfaction', 'presatisfactory', 'presatisfy', 'presavage', 'presavagery', 'presay', 'presbyacousia', 'presbyacusia', 'presbycousis', 'presbycusis', 'presbyope', 'presbyophrenia', 'presbyophrenic', 'presbyopia', 'presbyopic', 'presbyopy', 'presbyte', 'presbyter', 'presbyteral', 'presbyterate', 'presbyterated', 'presbyteress', 'presbyteria', 'presbyterial', 'presbyterially', 'presbyterium', 'presbytership', 'presbytery', 'presbytia', 'presbytic', 'presbytism', 'prescapula', 'prescapular', 'prescapularis', 'prescholastic', 'preschool', 'prescience', 'prescient', 'prescientific', 'presciently', 'prescind', 'prescindent', 'prescission', 'prescored', 'prescout', 'prescribable', 'prescribe', 'prescriber', 'prescript', 'prescriptibility', 'prescriptible', 'prescription', 'prescriptionist', 'prescriptive', 'prescriptively', 'prescriptiveness', 'prescriptorial', 'prescrive', 'prescutal', 'prescutum', 'preseal', 'presearch', 'preseason', 'preseasonal', 'presecular', 'presecure', 'presee', 'preselect', 'presell', 'preseminal', 'preseminary', 'presence', 'presenced', 'presenceless', 'presenile', 'presenility', 'presensation', 'presension', 'present', 'presentability', 'presentable', 'presentableness', 'presentably', 'presental', 'presentation', 'presentational', 'presentationism', 'presentationist', 'presentative', 'presentatively', 'presentee', 'presentence', 'presenter', 'presential', 'presentiality', 'presentially', 'presentialness', 'presentient', 'presentiment', 'presentimental', 'presentist', 'presentive', 'presentively', 'presentiveness', 'presently', 'presentment', 'presentness', 'presentor', 'preseparate', 'preseparation', 'preseparator', 'preservability', 'preservable', 'preserval', 'preservation', 'preservationist', 'preservative', 'preservatize', 'preservatory', 'preserve', 'preserver', 'preserveress', 'preses', 'presession', 'preset', 'presettle', 'presettlement', 'presexual', 'preshadow', 'preshape', 'preshare', 'presharpen', 'preshelter', 'preship', 'preshipment', 'preshortage', 'preshorten', 'preshow', 'preside', 'presidence', 'presidencia', 'presidency', 'president', 'presidente', 'presidentess', 'presidential', 'presidentially', 'presidentiary', 'presidentship', 'presider', 'presidial', 'presidially', 'presidiary', 'presidio', 'presidium', 'presift', 'presign', 'presignal', 'presignificance', 'presignificancy', 'presignificant', 'presignification', 'presignificative', 'presignificator', 'presignify', 'presimian', 'preslavery', 'presmooth', 'presocial', 'presocialism', 'presocialist', 'presolar', 'presolicit', 'presolicitation', 'presolution', 'presolve', 'presophomore', 'presound', 'prespecialist', 'prespecialize', 'prespecific', 'prespecifically', 'prespecification', 'prespecify', 'prespeculate', 'prespeculation', 'presphenoid', 'presphenoidal', 'presphygmic', 'prespinal', 'prespinous', 'prespiracular', 'presplendor', 'presplenomegalic', 'prespoil', 'prespontaneity', 'prespontaneous', 'prespontaneously', 'prespread', 'presprinkle', 'prespur', 'press', 'pressable', 'pressboard', 'pressdom', 'pressel', 'presser', 'pressfat', 'pressful', 'pressgang', 'pressible', 'pressing', 'pressingly', 'pressingness', 'pression', 'pressive', 'pressman', 'pressmanship', 'pressmark', 'pressor', 'presspack', 'pressroom', 'pressurage', 'pressural', 'pressure', 'pressureless', 'pressureproof', 'pressurize', 'pressurizer', 'presswoman', 'presswork', 'pressworker', 'prest', 'prestabilism', 'prestability', 'prestable', 'prestamp', 'prestandard', 'prestandardization', 'prestandardize', 'prestant', 'prestate', 'prestation', 'prestatistical', 'presteam', 'presteel', 'prester', 'presternal', 'presternum', 'prestidigital', 'prestidigitate', 'prestidigitation', 'prestidigitator', 'prestidigitatorial', 'prestige', 'prestigiate', 'prestigiation', 'prestigiator', 'prestigious', 'prestigiously', 'prestigiousness', 'prestimulate', 'prestimulation', 'prestimulus', 'prestissimo', 'presto', 'prestock', 'prestomial', 'prestomium', 'prestorage', 'prestore', 'prestraighten', 'prestrain', 'prestrengthen', 'prestress', 'prestretch', 'prestricken', 'prestruggle', 'prestubborn', 'prestudious', 'prestudiously', 'prestudiousness', 'prestudy', 'presubdue', 'presubiculum', 'presubject', 'presubjection', 'presubmission', 'presubmit', 'presubordinate', 'presubordination', 'presubscribe', 'presubscriber', 'presubscription', 'presubsist', 'presubsistence', 'presubsistent', 'presubstantial', 'presubstitute', 'presubstitution', 'presuccess', 'presuccessful', 'presuccessfully', 'presuffer', 'presuffering', 'presufficiency', 'presufficient', 'presufficiently', 'presuffrage', 'presuggest', 'presuggestion', 'presuggestive', 'presuitability', 'presuitable', 'presuitably', 'presumable', 'presumably', 'presume', 'presumedly', 'presumer', 'presuming', 'presumption', 'presumptious', 'presumptiously', 'presumptive', 'presumptively', 'presumptuous', 'presumptuously', 'presumptuousness', 'presuperficial', 'presuperficiality', 'presuperficially', 'presuperfluity', 'presuperfluous', 'presuperfluously', 'presuperintendence', 'presuperintendency', 'presupervise', 'presupervision', 'presupervisor', 'presupplemental', 'presupplementary', 'presupplicate', 'presupplication', 'presupply', 'presupport', 'presupposal', 'presuppose', 'presupposition', 'presuppositionless', 'presuppress', 'presuppression', 'presuppurative', 'presupremacy', 'presupreme', 'presurgery', 'presurgical', 'presurmise', 'presurprisal', 'presurprise', 'presurrender', 'presurround', 'presurvey', 'presusceptibility', 'presusceptible', 'presuspect', 'presuspend', 'presuspension', 'presuspicion', 'presuspicious', 'presuspiciously', 'presuspiciousness', 'presustain', 'presutural', 'preswallow', 'presylvian', 'presympathize', 'presympathy', 'presymphonic', 'presymphony', 'presymphysial', 'presymptom', 'presymptomatic', 'presynapsis', 'presynaptic', 'presystematic', 'presystematically', 'presystole', 'presystolic', 'pretabulate', 'pretabulation', 'pretan', 'pretangible', 'pretangibly', 'pretannage', 'pretardily', 'pretardiness', 'pretardy', 'pretariff', 'pretaste', 'preteach', 'pretechnical', 'pretechnically', 'pretelegraph', 'pretelegraphic', 'pretelephone', 'pretelephonic', 'pretell', 'pretemperate', 'pretemperately', 'pretemporal', 'pretend', 'pretendant', 'pretended', 'pretendedly', 'pretender', 'pretendership', 'pretendingly', 'pretendingness', 'pretense', 'pretenseful', 'pretenseless', 'pretension', 'pretensional', 'pretensionless', 'pretensive', 'pretensively', 'pretensiveness', 'pretentative', 'pretentious', 'pretentiously', 'pretentiousness', 'pretercanine', 'preterchristian', 'preterconventional', 'preterdetermined', 'preterdeterminedly', 'preterdiplomatic', 'preterdiplomatically', 'preterequine', 'preteressential', 'pretergress', 'pretergression', 'preterhuman', 'preterience', 'preterient', 'preterintentional', 'preterist', 'preterit', 'preteriteness', 'preterition', 'preteritive', 'preteritness', 'preterlabent', 'preterlegal', 'preterlethal', 'preterminal', 'pretermission', 'pretermit', 'pretermitter', 'preternative', 'preternatural', 'preternaturalism', 'preternaturalist', 'preternaturality', 'preternaturally', 'preternaturalness', 'preternormal', 'preternotorious', 'preternuptial', 'preterpluperfect', 'preterpolitical', 'preterrational', 'preterregular', 'preterrestrial', 'preterritorial', 'preterroyal', 'preterscriptural', 'preterseasonable', 'pretersensual', 'pretervection', 'pretest', 'pretestify', 'pretestimony', 'pretext', 'pretexted', 'pretextuous', 'pretheological', 'prethoracic', 'prethoughtful', 'prethoughtfully', 'prethoughtfulness', 'prethreaten', 'prethrill', 'prethrust', 'pretibial', 'pretimeliness', 'pretimely', 'pretincture', 'pretire', 'pretoken', 'pretone', 'pretonic', 'pretorial', 'pretorship', 'pretorsional', 'pretorture', 'pretournament', 'pretrace', 'pretracheal', 'pretraditional', 'pretrain', 'pretraining', 'pretransact', 'pretransaction', 'pretranscribe', 'pretranscription', 'pretranslate', 'pretranslation', 'pretransmission', 'pretransmit', 'pretransport', 'pretransportation', 'pretravel', 'pretreat', 'pretreatment', 'pretreaty', 'pretrematic', 'pretribal', 'pretry', 'prettification', 'prettifier', 'prettify', 'prettikin', 'prettily', 'prettiness', 'pretty', 'prettyface', 'prettyish', 'prettyism', 'pretubercular', 'pretuberculous', 'pretympanic', 'pretyphoid', 'pretypify', 'pretypographical', 'pretyrannical', 'pretyranny', 'pretzel', 'preultimate', 'preultimately', 'preumbonal', 'preunderstand', 'preundertake', 'preunion', 'preunite', 'preutilizable', 'preutilization', 'preutilize', 'prevacate', 'prevacation', 'prevaccinate', 'prevaccination', 'prevail', 'prevailance', 'prevailer', 'prevailingly', 'prevailingness', 'prevailment', 'prevalence', 'prevalency', 'prevalent', 'prevalently', 'prevalentness', 'prevalescence', 'prevalescent', 'prevalid', 'prevalidity', 'prevalidly', 'prevaluation', 'prevalue', 'prevariation', 'prevaricate', 'prevarication', 'prevaricator', 'prevaricatory', 'prevascular', 'prevegetation', 'prevelar', 'prevenance', 'prevenancy', 'prevene', 'prevenience', 'prevenient', 'preveniently', 'prevent', 'preventability', 'preventable', 'preventative', 'preventer', 'preventible', 'preventingly', 'prevention', 'preventionism', 'preventionist', 'preventive', 'preventively', 'preventiveness', 'preventorium', 'preventure', 'preverb', 'preverbal', 'preverification', 'preverify', 'prevernal', 'preversion', 'prevertebral', 'prevesical', 'preveto', 'previctorious', 'previde', 'previdence', 'preview', 'previgilance', 'previgilant', 'previgilantly', 'previolate', 'previolation', 'previous', 'previously', 'previousness', 'previse', 'previsibility', 'previsible', 'previsibly', 'prevision', 'previsional', 'previsit', 'previsitor', 'previsive', 'previsor', 'prevocal', 'prevocalic', 'prevocally', 'prevocational', 'prevogue', 'prevoid', 'prevoidance', 'prevolitional', 'prevolunteer', 'prevomer', 'prevotal', 'prevote', 'prevoyance', 'prevoyant', 'prevue', 'prewar', 'prewarn', 'prewarrant', 'prewash', 'preweigh', 'prewelcome', 'prewhip', 'prewilling', 'prewillingly', 'prewillingness', 'prewire', 'prewireless', 'prewitness', 'prewonder', 'prewonderment', 'preworldliness', 'preworldly', 'preworship', 'preworthily', 'preworthiness', 'preworthy', 'prewound', 'prewrap', 'prexy', 'prey', 'preyer', 'preyful', 'preyingly', 'preyouthful', 'prezonal', 'prezone', 'prezygapophysial', 'prezygapophysis', 'prezygomatic', 'present']\n"
     ]
    }
   ],
   "source": [
    "import nltk \n",
    "from nltk.corpus import words \n",
    "nltk.download('words') \n",
    "def find_words_starting_with(prefix): \n",
    "    word_list = words.words() \n",
    "    matching_words = [word for word in word_list if word.startswith(prefix)] \n",
    "    return matching_words \n",
    "if __name__ == \"__main__\": \n",
    "    prefix = input(\"Enter the prefix: \") \n",
    "    results = find_words_starting_with(prefix) \n",
    "    print(f\"Words starting with '{prefix}': {results}\") "
   ]
  },
  {
   "cell_type": "code",
   "execution_count": 18,
   "id": "526959a2-fd3a-4e37-9348-a9ddd01bdccd",
   "metadata": {},
   "outputs": [
    {
     "name": "stderr",
     "output_type": "stream",
     "text": [
      "[nltk_data] Downloading package treebank to\n",
      "[nltk_data]     C:\\Users\\Student\\AppData\\Roaming\\nltk_data...\n",
      "[nltk_data]   Package treebank is already up-to-date!\n",
      "[nltk_data] Downloading package punkt to\n",
      "[nltk_data]     C:\\Users\\Student\\AppData\\Roaming\\nltk_data...\n",
      "[nltk_data]   Package punkt is already up-to-date!\n"
     ]
    },
    {
     "name": "stdin",
     "output_type": "stream",
     "text": [
      "Enter a sentence:  the company will hire new employees\n"
     ]
    },
    {
     "name": "stderr",
     "output_type": "stream",
     "text": [
      "C:\\ProgramData\\anaconda3\\Lib\\site-packages\\nltk\\tag\\hmm.py:334: RuntimeWarning: overflow encountered in cast\n",
      "  X[i, j] = self._transitions[si].logprob(self._states[j])\n",
      "C:\\ProgramData\\anaconda3\\Lib\\site-packages\\nltk\\tag\\hmm.py:336: RuntimeWarning: overflow encountered in cast\n",
      "  O[i, k] = self._output_logprob(si, self._symbols[k])\n",
      "C:\\ProgramData\\anaconda3\\Lib\\site-packages\\nltk\\tag\\hmm.py:332: RuntimeWarning: overflow encountered in cast\n",
      "  P[i] = self._priors.logprob(si)\n"
     ]
    },
    {
     "name": "stdout",
     "output_type": "stream",
     "text": [
      "Tagged Sentence: [('the', 'DT'), ('company', 'NN'), ('will', 'MD'), ('hire', 'VB'), ('new', 'JJ'), ('employees', 'NNS')]\n"
     ]
    }
   ],
   "source": [
    "import nltk\n",
    "from nltk.corpus import treebank\n",
    "from nltk import pos_tag, word_tokenize\n",
    "from nltk.tag import HiddenMarkovModelTrainer  \n",
    "\n",
    "nltk.download('treebank')\n",
    "nltk.download('punkt')\n",
    "\n",
    "\n",
    "train_sents = treebank.tagged_sents()\n",
    "\n",
    "hmm_model = HiddenMarkovModelTrainer().train(train_sents)\n",
    "\n",
    "def tag_sentence(sentence):\n",
    "    tokens = word_tokenize(sentence) \n",
    "    return hmm_model.tag(tokens)  \n",
    "\n",
    "if __name__ == \"__main__\":\n",
    "    sentence = input(\"Enter a sentence: \")\n",
    "    tagged = tag_sentence(sentence)\n",
    "    print(\"Tagged Sentence:\", tagged)\n"
   ]
  },
  {
   "cell_type": "code",
   "execution_count": 21,
   "id": "3b201e14-1d18-44af-a82a-21e232e94ece",
   "metadata": {},
   "outputs": [
    {
     "name": "stderr",
     "output_type": "stream",
     "text": [
      "[nltk_data] Downloading package treebank to\n",
      "[nltk_data]     C:\\Users\\Student\\AppData\\Roaming\\nltk_data...\n",
      "[nltk_data]   Package treebank is already up-to-date!\n",
      "[nltk_data] Downloading package punkt to\n",
      "[nltk_data]     C:\\Users\\Student\\AppData\\Roaming\\nltk_data...\n",
      "[nltk_data]   Package punkt is already up-to-date!\n"
     ]
    },
    {
     "name": "stdin",
     "output_type": "stream",
     "text": [
      "Enter a sentence:  they live in a big house\n"
     ]
    },
    {
     "name": "stdout",
     "output_type": "stream",
     "text": [
      "Tagged Sentence: [('they', 'PRP'), ('live', 'VBP'), ('in', 'IN'), ('a', 'DT'), ('big', 'NNP'), ('house', 'NNP')]\n"
     ]
    }
   ],
   "source": [
    "import nltk\n",
    "from nltk.corpus import treebank\n",
    "from nltk import word_tokenize\n",
    "from sklearn_crfsuite import CRF\n",
    "\n",
    "\n",
    "nltk.download('treebank')\n",
    "nltk.download('punkt')\n",
    "\n",
    "\n",
    "train_sents = treebank.tagged_sents()\n",
    "\n",
    "\n",
    "def word_features(word):\n",
    "    return {'word': word.lower()} \n",
    "\n",
    "\n",
    "X_train = [[word_features(word) for word, _ in sent] for sent in train_sents]\n",
    "y_train = [[label for _, label in sent] for sent in train_sents]\n",
    "\n",
    "\n",
    "crf = CRF(algorithm='lbfgs')\n",
    "crf.fit(X_train, y_train)\n",
    "\n",
    "\n",
    "def tag_sentence(sentence):\n",
    "    tokens = word_tokenize(sentence)\n",
    "    features = [word_features(token) for token in tokens]  \n",
    "    predicted_labels = crf.predict([features])[0]  \n",
    "    return list(zip(tokens, predicted_labels))  \n",
    "\n",
    "if __name__ == \"__main__\":\n",
    "    print(\"Tagged Sentence:\", tag_sentence(input(\"Enter a sentence: \")))\n"
   ]
  },
  {
   "cell_type": "code",
   "execution_count": 23,
   "id": "01ff971e-8596-4f3d-a7f7-f901009e5349",
   "metadata": {},
   "outputs": [
    {
     "name": "stderr",
     "output_type": "stream",
     "text": [
      "[nltk_data] Downloading package wordnet to\n",
      "[nltk_data]     C:\\Users\\Student\\AppData\\Roaming\\nltk_data...\n",
      "[nltk_data]   Package wordnet is already up-to-date!\n"
     ]
    },
    {
     "name": "stdin",
     "output_type": "stream",
     "text": [
      "Enter a word:  sun\n"
     ]
    },
    {
     "name": "stdout",
     "output_type": "stream",
     "text": [
      "Polysemy: 7 senses found for 'sun'\n",
      "Homonymy: 'sun' is homonymous (multiple meanings).\n",
      "  - sunburst.n.01: a sudden emergence of the sun from behind clouds\n"
     ]
    }
   ],
   "source": [
    "import nltk \n",
    "from nltk.corpus import wordnet as wn \n",
    "nltk.download('wordnet') \n",
    "def word_relations(word): \n",
    "    synsets = wn.synsets(word) \n",
    "    print(f\"Polysemy: {len(synsets)} senses found for '{word}'\") \n",
    "    if len(synsets) > 1: \n",
    "        print(f\"Homonymy: '{word}' is homonymous (multiple meanings).\") \n",
    "    else: \n",
    "        print(f\"Homonymy: '{word}' does not have homonyms.\") \n",
    "    for syn in synsets: \n",
    "        for hyponym in syn.hyponyms(): \n",
    "            print(f\"  - {hyponym.name()}: {hyponym.definition()}\") \n",
    "word = input(\"Enter a word: \") \n",
    "word_relations(word) "
   ]
  },
  {
   "cell_type": "code",
   "execution_count": 24,
   "id": "c5e8fd8f-cfcc-4593-aefe-4cda60c1e925",
   "metadata": {},
   "outputs": [
    {
     "name": "stdout",
     "output_type": "stream",
     "text": [
      "Pre-defined Unigrams: [('I',), ('love',), ('NLP',)]\n",
      "User-defined Unigrams: [('I',), ('love',), ('NLP',)]\n",
      "Pre-defined Bigrams: [('I', 'love'), ('love', 'NLP')]\n",
      "User-defined Bigrams: [('I', 'love'), ('love', 'NLP')]\n",
      "Pre-defined Trigrams: [('I', 'love', 'NLP')]\n",
      "User-defined Trigrams: [('I', 'love', 'NLP')]\n"
     ]
    },
    {
     "name": "stderr",
     "output_type": "stream",
     "text": [
      "[nltk_data] Downloading package punkt to\n",
      "[nltk_data]     C:\\Users\\Student\\AppData\\Roaming\\nltk_data...\n",
      "[nltk_data]   Package punkt is already up-to-date!\n"
     ]
    }
   ],
   "source": [
    "import nltk \n",
    "from nltk.util import ngrams \n",
    "nltk.download('punkt') \n",
    "def pre_defined(text, n): \n",
    "    return list(ngrams(nltk.word_tokenize(text), n)) \n",
    "def user_defined(text, n): \n",
    "    words = text.split() \n",
    "    return [tuple(words[i:i+n]) for i in range(len(words)-n+1)] \n",
    "text = \"I love NLP\" \n",
    "print(\"Pre-defined Unigrams:\", pre_defined(text, 1)) \n",
    "print(\"User-defined Unigrams:\", user_defined(text, 1)) \n",
    "print(\"Pre-defined Bigrams:\", pre_defined(text, 2)) \n",
    "print(\"User-defined Bigrams:\", user_defined(text, 2)) \n",
    "print(\"Pre-defined Trigrams:\", pre_defined(text, 3)) \n",
    "print(\"User-defined Trigrams:\", user_defined(text, 3)) "
   ]
  },
  {
   "cell_type": "code",
   "execution_count": 29,
   "id": "25e48133-2501-4354-87ae-437c65724285",
   "metadata": {},
   "outputs": [
    {
     "name": "stdout",
     "output_type": "stream",
     "text": [
      "Document 1:\n",
      "  ai: 0.0000\n",
      "  am: 0.0000\n",
      "  and: 0.0000\n",
      "  fun: 0.0000\n",
      "  great: 0.0000\n",
      "  in: 0.5746\n",
      "  is: 0.0000\n",
      "  language: 0.0000\n",
      "  learning: 0.0000\n",
      "  love: 0.5746\n",
      "  machine: 0.0000\n",
      "  natural: 0.0000\n",
      "  processing: 0.0000\n",
      "  programming: 0.4530\n",
      "  python: 0.3667\n",
      "  with: 0.0000\n",
      "Document 2:\n",
      "  ai: 0.0000\n",
      "  am: 0.0000\n",
      "  and: 0.0000\n",
      "  fun: 0.0000\n",
      "  great: 0.5528\n",
      "  in: 0.0000\n",
      "  is: 0.4358\n",
      "  language: 0.4358\n",
      "  learning: 0.0000\n",
      "  love: 0.0000\n",
      "  machine: 0.0000\n",
      "  natural: 0.0000\n",
      "  processing: 0.0000\n",
      "  programming: 0.4358\n",
      "  python: 0.3529\n",
      "  with: 0.0000\n",
      "Document 3:\n",
      "  ai: 0.3536\n",
      "  am: 0.3536\n",
      "  and: 0.3536\n",
      "  fun: 0.0000\n",
      "  great: 0.0000\n",
      "  in: 0.0000\n",
      "  is: 0.0000\n",
      "  language: 0.0000\n",
      "  learning: 0.7071\n",
      "  love: 0.0000\n",
      "  machine: 0.3536\n",
      "  natural: 0.0000\n",
      "  processing: 0.0000\n",
      "  programming: 0.0000\n",
      "  python: 0.0000\n",
      "  with: 0.0000\n",
      "Document 4:\n",
      "  ai: 0.0000\n",
      "  am: 0.0000\n",
      "  and: 0.0000\n",
      "  fun: 0.4207\n",
      "  great: 0.0000\n",
      "  in: 0.0000\n",
      "  is: 0.3317\n",
      "  language: 0.3317\n",
      "  learning: 0.0000\n",
      "  love: 0.0000\n",
      "  machine: 0.0000\n",
      "  natural: 0.4207\n",
      "  processing: 0.4207\n",
      "  programming: 0.0000\n",
      "  python: 0.2685\n",
      "  with: 0.4207\n",
      "\n"
     ]
    }
   ],
   "source": [
    "from sklearn.feature_extraction.text import TfidfVectorizer\n",
    "\n",
    "corpus = [\n",
    "    \"I love programming in Python\",\n",
    "    \"Python is a great programming language\",\n",
    "    \"I am learning machine learning and AI\",\n",
    "    \"Natural language processing with Python is fun\"\n",
    "]\n",
    "\n",
    "vectorizer = TfidfVectorizer()\n",
    "tfidf_matrix = vectorizer.fit_transform(corpus)\n",
    "feature_names = vectorizer.get_feature_names_out()\n",
    "tfidf_array = tfidf_matrix.toarray()\n",
    "\n",
    "for i, doc in enumerate(tfidf_array):\n",
    "    print(f\"Document {i+1}:\")\n",
    "    for j, term in enumerate(feature_names):\n",
    "        print(f\"  {term}: {doc[j]:.4f}\")\n",
    "print()\n"
   ]
  },
  {
   "cell_type": "code",
   "execution_count": null,
   "id": "0d829729-01d7-45bb-a0a0-41736ef86cde",
   "metadata": {},
   "outputs": [],
   "source": []
  }
 ],
 "metadata": {
  "kernelspec": {
   "display_name": "Python 3 (ipykernel)",
   "language": "python",
   "name": "python3"
  },
  "language_info": {
   "codemirror_mode": {
    "name": "ipython",
    "version": 3
   },
   "file_extension": ".py",
   "mimetype": "text/x-python",
   "name": "python",
   "nbconvert_exporter": "python",
   "pygments_lexer": "ipython3",
   "version": "3.11.7"
  }
 },
 "nbformat": 4,
 "nbformat_minor": 5
}
